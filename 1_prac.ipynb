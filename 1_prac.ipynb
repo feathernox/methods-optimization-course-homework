{
 "cells": [
  {
   "cell_type": "markdown",
   "metadata": {},
   "source": [
    "# 0) При реализации алгоритма разрешается использовать только библиотеки из requierments.txt\n",
    "\n",
    "В него входит:\n",
    "1. jupyter - библиотека для показа ноутбуков\n",
    "2. numpy - библиотека для вычислений\n",
    "3. matplotlib - библиотека для визуализации\n",
    "\n",
    "## Установка \n",
    "\n",
    "1. Устанавливаем python3 и virtualenv\n",
    "2. создаем окружение virtualenv --no-site-packages  lin_prog\n",
    "3. активируем окружение source activate lin_prog\n",
    "4. устанавливаем зависимости pip install -r requirements.txt\n",
    "5. запускаем jupyter и начинаем работать jupyter notebook\n",
    "\n"
   ]
  },
  {
   "cell_type": "code",
   "execution_count": 1,
   "metadata": {
    "collapsed": true
   },
   "outputs": [],
   "source": [
    "import numpy as np\n",
    "\n",
    "%matplotlib inline\n",
    "import matplotlib.pyplot as plt\n",
    "import matplotlib.lines as mlines"
   ]
  },
  {
   "cell_type": "markdown",
   "metadata": {},
   "source": [
    "# ============================================================\n",
    "# Задача на Симплекс метод\n",
    "\n",
    "## 1) На вход Вашей функции должны приходить:\n",
    "\n",
    "0. число переменных = n\n",
    "1. матрица A (n x m) (tsv, вещественные числа)\n",
    "2. вектор  b  ограничений типа неравнство\n",
    "4. вектор c функции полезности для задачи max cx \n",
    "5. алгоритм выбора входящей переменной (правило Бленда, Лексикографический метод)\n",
    "6. (не обязательный параметр) стартовую базисную точку\n",
    "\n",
    "## 2) На выход программа должна выдавать:\n",
    "\n",
    "### Обязательная часть (0.7 баллов):\n",
    "0. Ответ и оптимальную точку при положительных компонентах вектора b\n",
    "1. Количество итераций потребовавшихся для решения задачи\n",
    "2. при n=2 выдавать процесс решения (draw=True)\n",
    "3. Напишите программу которая будет отвечать на вопрос оптимально ли приведенное решение, например\n",
    "\n",
    "\n",
    "### Дополнительная часть  (0.4 балл):\n",
    "0. Максимально использовать матричные вычисления (0.2 балла)\n",
    "1. Работать в случае отрицательных чисел в векторе b (0.2 балла)"
   ]
  },
  {
   "cell_type": "code",
   "execution_count": 204,
   "metadata": {
    "collapsed": true
   },
   "outputs": [],
   "source": [
    "#пример из листочка 1\n",
    "A=np.array([[1,2],[2,0.5]])\n",
    "b=np.array([5,8])\n",
    "c=np.array([5,1])"
   ]
  },
  {
   "cell_type": "code",
   "execution_count": 24,
   "metadata": {
    "collapsed": true
   },
   "outputs": [],
   "source": [
    "def _draw_get_intersections(A, b):\n",
    "    A_ext = np.vstack((A, np.eye(2)))\n",
    "    b_ext = np.hstack((b, np.zeros(2)))\n",
    "    m = A_ext.shape[0]\n",
    "    \n",
    "    intersections = set([])\n",
    "    # Попарно пересекаем все прямые.\n",
    "    for i in range(m):\n",
    "        for j in range(i + 1, m):\n",
    "            # Проверяем, что векторы не параллельны.\n",
    "            if A_ext[i][0] * A_ext[j][1] == A_ext[j][0] * A_ext[i][1]:\n",
    "                continue\n",
    "            point = np.linalg.solve(A_ext[[i, j], :], b_ext[[i, j]])\n",
    "            if point[0] < 0 or point[1] < 0:\n",
    "                continue\n",
    "            if np.sum(A @ point > b) == 0:\n",
    "                intersections.add((point[0], point[1]))\n",
    "    return np.array(list(intersections))"
   ]
  },
  {
   "cell_type": "code",
   "execution_count": 118,
   "metadata": {
    "collapsed": true
   },
   "outputs": [],
   "source": [
    "def _draw(A, b, steps, points):\n",
    "    m = A.shape[0]\n",
    "    n = A.shape[1]\n",
    "    \n",
    "    # Точки пересечений прямых.\n",
    "    intersections = _draw_get_intersections(A, b)\n",
    "    # Вспомогательные точки, помогающие определить, сколько\n",
    "    # надо прорисовать.\n",
    "    points_x1 = intersections[:, 0][intersections[:, 1] == 0]\n",
    "    points_x2 = intersections[:, 1][intersections[:, 0] == 0]\n",
    "        \n",
    "    fig, ax = plt.subplots(steps + 1)\n",
    "    if steps == 0:\n",
    "        ax = [ax]\n",
    "    fig.set_figheight(5 * (steps + 1))\n",
    "    fig.set_figwidth(5)\n",
    "        \n",
    "    xlim = np.max(intersections[:, 0])\n",
    "    ylim = np.max(intersections[:, 1])\n",
    "    lim = max(xlim, ylim)\n",
    "        \n",
    "    for i, a in enumerate(ax):\n",
    "        a.plot(points_x1, points_x1 * 0, color='blue')\n",
    "        a.plot(points_x2 * 0, points_x2, color='blue')\n",
    "\n",
    "        for j in range(m):\n",
    "            if A[j, 1] == 0:\n",
    "                # Вертикальная прямая.\n",
    "                a.plot([b[j], b[j]], [0, ylim], color='blue')\n",
    "            elif A[j, 0] == 0:\n",
    "                # Горизонтальная прямая.\n",
    "                a.plot([0, xlim], [b[j], b[j]], color='blue')\n",
    "            else:\n",
    "                a.plot([0, b[j] / A[j, 0]], [b[j] / A[j, 1] , 0],\n",
    "                           color='blue')\n",
    "            \n",
    "        a.set_xlabel('$x_1$', fontsize=15)\n",
    "        a.set_ylabel('$x_2$', fontsize=15)\n",
    "            \n",
    "        a.set_xlim([-0.1 * lim, 1.1 * lim])\n",
    "        a.set_ylim([-0.1 * lim, 1.1 * lim])\n",
    "            \n",
    "        a.scatter(intersections[:, 0], intersections[:, 1], color='black')\n",
    "        a.scatter(points[i][0], points[i][1], color='red')\n",
    "        a.set_title('Итерация %d: $x=(%.2f, %.2f)$' % (i + 1,\n",
    "                        points[i][0], points[i][1]), fontsize=15)\n",
    "\n",
    "    plt.tight_layout()\n",
    "    plt.show()    "
   ]
  },
  {
   "cell_type": "code",
   "execution_count": 191,
   "metadata": {
    "collapsed": true
   },
   "outputs": [],
   "source": [
    "def _solve_lin_prog_simple(A, b, c, method='bland', start_point=None):\n",
    "    \"\"\"\n",
    "    Симплекс-метод в простом случае;\n",
    "    \n",
    "    A - матрица;\n",
    "    b - вектор ограничений типа <=; все элементы неотрицательны;\n",
    "    с - функция полезности; задача максимизации.\n",
    "    Считается, что все необходимые переменные в матрицы и векторы\n",
    "    уже добавлены.\n",
    "    \n",
    "    method - 'blend', 'lexical'\n",
    "    start_point - точка; в предположении, что переменные неотрицательны\n",
    "    draw - true/false рисовать ли ответ, только для 2 переменных\n",
    "    \n",
    "    Вывод - вектор, на котором достигается максимум, максимальное значение,\n",
    "    число итераций, посещенные точки.\n",
    "    \"\"\"\n",
    "    # Счетчик шагов симплекс-метода.\n",
    "    # Шагом считается один переход из точки в другую.\n",
    "    steps = 0\n",
    "    \n",
    "    # Вектор, на котором достигается максимум и максимальное значение.\n",
    "    res_vec = None\n",
    "    res_opt = None\n",
    "    \n",
    "    # Устанавливаем число небазисных (n) и число базисных (m) переменных.\n",
    "    m = A.shape[0]\n",
    "    n = A.shape[1] - m\n",
    "\n",
    "    B = None\n",
    "    N = None\n",
    "    \n",
    "    if start_point is None:\n",
    "        # Устанавливаем имена базисных (B) и небазисных (N) переменных\n",
    "        # как [n, ..., n+m-1] и [0, 1, ..., n-1] соответственно.\n",
    "        # Множества упорядочены, чтобы не терять соответствие со строками.\n",
    "        B = n + np.arange(m)\n",
    "        N = np.arange(n)\n",
    "    else:\n",
    "        # Если точка нулевая, то совпадает с методом выше.\n",
    "        N = np.where(start_point == 0)[0][:n]\n",
    "        B = np.array(list(set(range(n + m)) - set(list(N))))\n",
    "    \n",
    "    # Список координат точек, рассматриваемых алгоритмом.\n",
    "    # Нужен для построения графика.\n",
    "    points = []\n",
    "    \n",
    "    # Статус:\n",
    "    # 0 --- не закончил работу;\n",
    "    # 1 --- найдено оптимальное решение;\n",
    "    # 2 --- задача не ограничена.\n",
    "    status = 0\n",
    "    while status == 0:\n",
    "        A_B = A[:, B]\n",
    "        A_N = A[:, N]\n",
    "        \n",
    "        c_B = c[B]\n",
    "        c_N = c[N]\n",
    "        \n",
    "        A_B_inv = np.linalg.inv(A_B)\n",
    "        pi = c_B.T @ A_B_inv\n",
    "        c_cur = c_N.T - pi @ A_N\n",
    "        b_cur = A_B_inv @ b\n",
    "        \n",
    "        point = np.zeros(n + m)\n",
    "        point[B] = b_cur\n",
    "        points.append(point)\n",
    "        \n",
    "        # Выбор входящей и покидающей переменной.\n",
    "        # Индексация идет в упорядоченных наборах N и B соответственно.\n",
    "        piv_col = None\n",
    "        piv_row = None\n",
    "        \n",
    "        # Здесь можно понять, что решили задачу.\n",
    "        possible_cols = N[c_cur > 0]\n",
    "        if len(possible_cols) == 0:\n",
    "            status = 1\n",
    "            \n",
    "            res_vec = np.zeros(n + m)\n",
    "            res_vec[B] = b_cur \n",
    "            res_vec = res_vec\n",
    "            \n",
    "            res_opt = np.inner(c, res_vec)\n",
    "            \n",
    "            break\n",
    "        \n",
    "        # Выбирать входящую переменную в лексикографическом методе\n",
    "        # можно любую среди имеющих неотрицательные коэффициенты,\n",
    "        # поэтому будем делать по тому же принципу, что и в методе Бланда.\n",
    "        piv_col = np.where(N == np.min(possible_cols))[0][0]\n",
    "        y = (A_B_inv @ A_N)[:, piv_col]\n",
    "\n",
    "        # Здесь можно понять, что задача не ограниченная.\n",
    "        if np.sum(y > 0) == 0:\n",
    "            status = 2\n",
    "            res_opt = np.inf\n",
    "            print(y)\n",
    "            break\n",
    "        \n",
    "        if method == 'lexical':\n",
    "            comp_rows = np.hstack((b_cur.reshape((m, 1)), A_N)) / y[:, np.newaxis]\n",
    "            # Присваиваем бесконечные значения, чтобы в лексикографическом порядке\n",
    "            # строки, соответствующие отсутствию ограничений,\n",
    "            # шли позже тех, что с ограничениями. \n",
    "            comp_rows[y <= 0, 0] = np.inf\n",
    "            piv_row = np.lexsort(np.rot90(comp_rows))[0]\n",
    "        else:\n",
    "            # Метод Бланда:\n",
    "            increases = b_cur / y\n",
    "            ambiguity = np.where(increases == np.min((increases)[y > 0]))[0]\n",
    "            piv_row = np.where(B == np.min(B[ambiguity]))[0][0]\n",
    "        \n",
    "        # Переход к новому базису.\n",
    "        entering = N[piv_col]\n",
    "        leaving = B[piv_row]\n",
    "        \n",
    "        B[piv_row] = entering\n",
    "        N[piv_col] = leaving\n",
    "        \n",
    "        steps += 1\n",
    "        \n",
    "    return res_vec, res_opt, steps, points"
   ]
  },
  {
   "cell_type": "code",
   "execution_count": 221,
   "metadata": {
    "collapsed": true
   },
   "outputs": [],
   "source": [
    "def solve_lin_prog (A, b, c, method='blend',\n",
    "                    start_point=None, draw=False):\n",
    "    \"\"\"\n",
    "    Здесь должно быть ваше решение. У всех действий должны быть комментарии. \n",
    "    Код должен быть читабельным, хорошо использовать дополнительные функции,\n",
    "    если это необходимо.\n",
    "    \n",
    "    A - матрица;\n",
    "    b - вектор ограничений типа <=;\n",
    "    с - функция полезности; задача максимизации.\n",
    "    method - 'blend', 'lexical'\n",
    "    start_point - точка\n",
    "    draw - true/false рисовать ли ответ, только для 2 переменных\n",
    "    \n",
    "    Вывод - вектор, на котором достигается максимум, максимальное значение, число итераций\n",
    "    \"\"\"\n",
    "    # Счетчик шагов симплекс-метода.\n",
    "    # Шагом считается один переход из точки в другую.\n",
    "    steps = 0\n",
    "    \n",
    "    # Вектор, на котором достигается максимум и максимальное значение.\n",
    "    res_vec = None\n",
    "    res_opt = None\n",
    "    \n",
    "    # Посещаемые точки:\n",
    "    points = []\n",
    "    \n",
    "    # Модифицированные A, c, start_point чтобы решать через них\n",
    "    # симплекс-метод в базовом случае.\n",
    "    A_ext = None\n",
    "    c_ext = None\n",
    "    b_ext = None\n",
    "    start_point_ext = None\n",
    "    \n",
    "    if start_point is not None:\n",
    "        # Каждую переменную x разбиваем на x_+ - x_-,\n",
    "        # где x_+, x_- неотрицательны.\n",
    "        A_ext = np.hstack((A, -A))\n",
    "        A_ext = np.vstack((A_ext,\n",
    "                np.hstack((np.eye(A.shape[1]), -np.eye(A.shape[1])))))\n",
    "        b_ext = np.hstack((b, np.zeros(A.shape[1])))\n",
    "        c_ext = np.hstack((c, -c))\n",
    "        start_point_ext = np.hstack((start_point, np.zeros(A.shape[1])))\n",
    "    else:\n",
    "        A_ext = A\n",
    "        c_ext = c\n",
    "        b_ext = b\n",
    "    \n",
    "    feasible = True\n",
    "    \n",
    "    # Первая фаза - недописпно\n",
    "    if (b < 0).any():\n",
    "        A_1 = A_ext\n",
    "        A_1[np.where(b < 0)[0], :] *= -1\n",
    "        A_1 = np.hstack((A_1, np.eye(len(b))))\n",
    "        b_1 = np.abs(b)\n",
    "        c_1 = np.hstack((np.zeros(len(b)), -np.ones(len(b))))\n",
    "        res_vec_1, res_opt_1, steps, points_1 = _solve_lin_prog_simple(\n",
    "            A, b, c, method=method, start_point=start_point_ext)\n",
    "        \n",
    "        if res_opt_1 < 0:\n",
    "            feasible = False\n",
    "        elif (res_vec_1[-len(b):] == 0).all():\n",
    "            for point in points_1:\n",
    "                points.append(point[:A_1.shape[1]])\n",
    "            start_point_ext = res_vec[:A_1.shape[1]]\n",
    "                \n",
    "    if start_point is not None:\n",
    "        start_point_ext = np.hstack((start_point_ext,\n",
    "                        b_ext - A_ext @ start_point_ext))\n",
    "   \n",
    "    # Добавляем в матрицу A столбцы для новых переменных.\n",
    "    A_ext = np.hstack((A_ext, np.eye(len(b_ext))))\n",
    "    \n",
    "    # Добавляем в целевую функцию коэффициенты для новых переменных.\n",
    "    c_ext = np.hstack((c_ext, np.zeros(len(b_ext))))\n",
    "    res_vec_ext, res_opt, steps_ext, points_ext = _solve_lin_prog_simple(\n",
    "        A_ext, b_ext, c_ext, method=method, start_point=start_point_ext)\n",
    "    \n",
    "    # Возвращаемся к исходным переменным.\n",
    "    steps += steps_ext\n",
    "    for point in points_ext:\n",
    "        if start_point is None:\n",
    "            points.append(point[:A.shape[1]])\n",
    "        else:\n",
    "            points.append(point[:A.shape[1]] -\n",
    "                         point[A.shape[1]:(2 * A.shape[1])])\n",
    "    if res_vec_ext is not None:        \n",
    "        if start_point is None:\n",
    "            res_vec = res_vec_ext[:A.shape[1]]\n",
    "        else:\n",
    "            res_vec = point[:A.shape[1]] - point[A.shape[1]:(2 * A.shape[1])]\n",
    "\n",
    "    if A.shape[0] == 2 and draw:\n",
    "        _draw(A, b, steps, points)\n",
    "    return res_vec, res_opt, steps"
   ]
  },
  {
   "cell_type": "code",
   "execution_count": 222,
   "metadata": {
    "collapsed": true
   },
   "outputs": [],
   "source": [
    "from itertools import combinations\n",
    "\n",
    "def is_optimal (A, b, c, x):\n",
    "    \"\"\"\n",
    "    Здесь должна быть реализована проверка оптимальности точки. \n",
    "    Алгоритм должен работать для фиксированных n, m за константное время\n",
    "    \"\"\"\n",
    "    m = A.shape[0]\n",
    "    n = A.shape[1]\n",
    "    A_ext = np.hstack((A, np.eye(m)))\n",
    "    \n",
    "    opt_sols = []\n",
    "    opt = -np.inf\n",
    "    # Перебираем все возможные точки, рассматривая дополнительные\n",
    "    # переменные, оставляя нули среди достаточного числа переменных.\n",
    "    for p in combinations(range(m + n), m):\n",
    "        point = np.zeros(m + n)\n",
    "        if np.linalg.matrix_rank(A_ext[:, np.array(p)]) < m:\n",
    "            continue\n",
    "        point[np.array(p)] = np.linalg.solve(A_ext[:,\n",
    "                                    np.array(p)], b)\n",
    "        if (point < 0).any():\n",
    "            continue\n",
    "        new_opt = c @ point[:n]\n",
    "        if new_opt == opt:\n",
    "            opt_sols.append(tuple(point[:n]))\n",
    "        elif new_opt > opt:\n",
    "            opt_sols = [tuple(point[:n])]\n",
    "            opt = new_opt\n",
    "    \n",
    "    res = False\n",
    "    for sol in opt_sols:\n",
    "        if tuple(sol) == tuple(x):\n",
    "            res = True\n",
    "            break\n",
    "    return res"
   ]
  },
  {
   "cell_type": "code",
   "execution_count": 223,
   "metadata": {},
   "outputs": [
    {
     "data": {
      "image/png": "[encoded data removed]",
      "text/plain": [
       "<matplotlib.figure.Figure at 0x7fee06e51710>"
      ]
     },
     "metadata": {},
     "output_type": "display_data"
    }
   ],
   "source": [
    "x, best, n_iter = solve_lin_prog(A,b,c, draw=True)"
   ]
  },
  {
   "cell_type": "code",
   "execution_count": 209,
   "metadata": {},
   "outputs": [
    {
     "name": "stdout",
     "output_type": "stream",
     "text": [
      "Точка:  [ 4.  0.]\n",
      "Ответ:  20.0\n",
      "Число итераций:  1\n"
     ]
    }
   ],
   "source": [
    "print (u'Точка: ', x)\n",
    "print (u'Ответ: ', best)\n",
    "print (u'Число итераций: ', n_iter)"
   ]
  },
  {
   "cell_type": "code",
   "execution_count": 210,
   "metadata": {},
   "outputs": [
    {
     "data": {
      "text/plain": [
       "True"
      ]
     },
     "execution_count": 210,
     "metadata": {},
     "output_type": "execute_result"
    }
   ],
   "source": [
    "is_optimal(A,b,c,x)"
   ]
  },
  {
   "cell_type": "markdown",
   "metadata": {
    "collapsed": true
   },
   "source": [
    "## Бонус +1 Балл\n",
    "Напишите программу которая для обоих методов из второй задачи пункта 5 (метод Бланда и лексикографический порядок) будет использовать 2^n-1 итераций (бонус за каждый метод) и напишите обоснование (итого 0.5 балла за каждый метод)"
   ]
  },
  {
   "cell_type": "code",
   "execution_count": null,
   "metadata": {
    "collapsed": true
   },
   "outputs": [],
   "source": []
  },
  {
   "cell_type": "markdown",
   "metadata": {},
   "source": [
    "# ==========================================================\n",
    "# Задача на МНК (0.4 балла)"
   ]
  },
  {
   "cell_type": "code",
   "execution_count": 1,
   "metadata": {
    "collapsed": true
   },
   "outputs": [],
   "source": [
    "from math import sin\n",
    "import numpy as np\n",
    "\n",
    "\"\"\"Пусть физический закон описывается зависимостью \n",
    "некоторого измеряемого значения y(x, a) \n",
    "от времени и координаты x при параметрах a:\"\"\"\n",
    "def y(t, a): \n",
    "    return a[2] * sin(t) + a[1] * t + a[0]\n",
    "    \n",
    "\"\"\"\n",
    "Дан набор координат t размера m, значения распределены равномерно). Пусть m = 200.\n",
    "\"\"\"\n",
    "m = 200\n",
    "t = [i * 10.0 / m for i in range(m)]\n",
    "\n",
    "\n",
    "\"\"\"Для каждого момента времени t сгенерируйте соответствующее \n",
    "значение y(t,a) при некоторых параметрах  a_0, a_1, a_2. Для примера: \"\"\"\n",
    "a = [10, 100, 1000]\n",
    "\n",
    "def get_y(a, σ):\n",
    "    \"\"\"Результаты измерений отличаются от истинных значений\n",
    "    в силу действия случайной аддитивной помехи \n",
    "    (случайность подчиняется нормальному закону распределения N(0, σ))\"\"\"\n",
    "    y_real = np.array([y(i, a) for i in t])\n",
    "    y_corr = y_real + np.random.normal(0, σ, m)\n",
    "    return y_real, y_corr\n",
    "\n",
    "# todo -выбрать параметр\n",
    "σ = 0.5\n",
    "\n",
    "# Генерация значений: изначальные и с помехами.\n",
    "y_real, y_corr = get_y(a, σ)\n",
    "\n",
    "\n",
    "def get_params (y_corr, t, method=0):\n",
    "    \"\"\"\n",
    "    По сгенерированному набору точек y_corr дайте оценку параметрам a\n",
    "    закона с учетом знания общей формулы тремя различными способами:\n",
    "    • method=0 -> сумма квадратов невязок будет минимальна.\n",
    "    • method=1 -> сумма абсолютных значений невязок будет минимальна.\n",
    "    • method=2 -> максимальное абсолютное значение невязки будет минимально.\n",
    "    \"\"\"\n",
    "    A = np.vstack(np.sin(t), t, np.ones(len(t)))\n",
    "    if method == 0:\n",
    "        a = np.linalg.solve(A.T @ A, y_corr)\n",
    "        return a\n",
    "    elif method == 1:\n",
    "        return [0,0,0]\n",
    "    else:\n",
    "        return [0,0,0]"
   ]
  },
  {
   "cell_type": "markdown",
   "metadata": {},
   "source": [
    "## Задание 1 (0.2 балла)\n",
    "1\\.\tПостройте в одной координатной плоскости графики у(t, a) и  оценочные значения y(t,a*) для всех 3 методов"
   ]
  },
  {
   "cell_type": "code",
   "execution_count": null,
   "metadata": {
    "collapsed": true
   },
   "outputs": [],
   "source": []
  },
  {
   "cell_type": "markdown",
   "metadata": {},
   "source": [
    "2\\.\tВычислите как отличается каждый из оценочных параметров от своего истинного значения. Как меняется это отличие при изменении σ?"
   ]
  },
  {
   "cell_type": "code",
   "execution_count": null,
   "metadata": {
    "collapsed": true
   },
   "outputs": [],
   "source": []
  },
  {
   "cell_type": "markdown",
   "metadata": {},
   "source": [
    "3\\.\tСкорректируйте y_corr[0]  и y_corr[-1]: пусть одно из них будет на 50 больше, а другое на 50 меньше. Постройте новые оценочные значения параметров и соответствующие графики. Какая из оценок получилась более устойчивой к выбросам?"
   ]
  },
  {
   "cell_type": "code",
   "execution_count": null,
   "metadata": {
    "collapsed": true
   },
   "outputs": [],
   "source": [
    "y_corr[0] += σ * 100\n",
    "y_corr[-1] -= σ * 100"
   ]
  },
  {
   "cell_type": "markdown",
   "metadata": {},
   "source": [
    "## Задание 2 (0.2 балла)\n",
    "Возьмем случайную матрицу A  200x80 и случайный вектор b из распределения N(0,1). "
   ]
  },
  {
   "cell_type": "code",
   "execution_count": 6,
   "metadata": {
    "collapsed": true
   },
   "outputs": [],
   "source": [
    "A = np.random.normal(size=(200, 80))\n",
    "b = np.random.normal(size=200)"
   ]
  },
  {
   "cell_type": "markdown",
   "metadata": {
    "collapsed": true
   },
   "source": [
    "1\\. Решите переопределенную систему тремя способами, минимизируя l1, l2 и linf нормы вектора b – Ax."
   ]
  },
  {
   "cell_type": "markdown",
   "metadata": {},
   "source": [
    "2\\. Постройте распределение ошибок для каждого решения."
   ]
  },
  {
   "cell_type": "markdown",
   "metadata": {},
   "source": [
    "3\\. Какими свойствами обладают распределения?"
   ]
  }
 ],
 "metadata": {
  "kernelspec": {
   "display_name": "Python 3",
   "language": "python",
   "name": "python3"
  },
  "language_info": {
   "codemirror_mode": {
    "name": "ipython",
    "version": 3
   },
   "file_extension": ".py",
   "mimetype": "text/x-python",
   "name": "python",
   "nbconvert_exporter": "python",
   "pygments_lexer": "ipython3",
   "version": "3.6.3"
  }
 },
 "nbformat": 4,
 "nbformat_minor": 2
}
